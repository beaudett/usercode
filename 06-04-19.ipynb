{
 "cells": [
  {
   "cell_type": "markdown",
   "metadata": {},
   "source": [
    "Proposition: $$x_1^{n+2} = x_1^{n+1}+x_1^n$$\n",
    "\n",
    "Vrai pour $n=1$ (question précédente), on le démontre pour $n+3$\n",
    "$$x_1^{n+3}= x_1.x_1^{n+2}=x_1.(x_1^{n+1}+x_1^n)= x_1^{n+2}+x_1^{n+1}$$\n",
    "Par conséquent, la proposition est démontrée pour tout $n$\n",
    "\n",
    "De même  $$x_2^{n+2} = x_2^{n+1}+x_2^n$$\n",
    "\n",
    "Ainsi:\n",
    "$$ S_{n+2} = x_1^{n+2} + x_2^{n+2} =  x_1^{n+1}+x_1^n + x_2^{n+1}+x_2^n = S_{n+1} + S_n  $$"
   ]
  },
  {
   "cell_type": "markdown",
   "metadata": {},
   "source": [
    "Le programme affiche $S_n$"
   ]
  },
  {
   "cell_type": "code",
   "execution_count": 25,
   "metadata": {},
   "outputs": [
    {
     "name": "stdout",
     "output_type": "stream",
     "text": [
      "10100521408792494338631998043\n",
      "(135, 16342986943522226847837781364)\n",
      "True\n",
      "False\n"
     ]
    }
   ],
   "source": [
    "def luc(n):\n",
    "    a,b=1,3\n",
    "    for i in range(1,n):\n",
    "        c=a\n",
    "        a=b\n",
    "        b=c+a\n",
    "    return (a)\n",
    "\n",
    "print (luc(134))\n",
    "\n",
    "def luc2(limit):\n",
    "    a,b=1,3\n",
    "    n=2\n",
    "    while (b <= limit):\n",
    "        c=a\n",
    "        a=b\n",
    "        b=c+a\n",
    "        n=n+1\n",
    "    return (n,b)\n",
    "\n",
    "limit=12345678910111213141516171819\n",
    "resultat=luc2(limit)\n",
    "print (resultat)\n",
    "print (luc(resultat[0]-1) <= limit)\n",
    "print (luc(resultat[0]-1) > limit)\n"
   ]
  }
 ],
 "metadata": {
  "kernelspec": {
   "display_name": "Python 3",
   "language": "python",
   "name": "python3"
  },
  "language_info": {
   "codemirror_mode": {
    "name": "ipython",
    "version": 3
   },
   "file_extension": ".py",
   "mimetype": "text/x-python",
   "name": "python",
   "nbconvert_exporter": "python",
   "pygments_lexer": "ipython3",
   "version": "3.7.2"
  }
 },
 "nbformat": 4,
 "nbformat_minor": 1
}
